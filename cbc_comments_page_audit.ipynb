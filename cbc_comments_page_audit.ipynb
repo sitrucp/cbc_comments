{
 "cells": [
  {
   "cell_type": "code",
   "execution_count": null,
   "metadata": {},
   "outputs": [],
   "source": [
    "import json\n",
    "import os\n",
    "from selenium import webdriver\n",
    "from selenium.webdriver.common.by import By\n",
    "import time\n",
    "from cbc_paths import file_path_csv, chrome_executable_path, edge_executable_path\n",
    "\n",
    "# create selenium driver\n",
    "#driver = webdriver.Edge(executable_path=edge_executable_path)\n",
    "driver = webdriver.Chrome(executable_path=chrome_executable_path)\n",
    "driver.minimize_window()\n",
    "\n",
    "# read json file data\n",
    "file = os.path.abspath('') + '\\cbc_stories.json'\n",
    "with open(file) as json_file:\n",
    "    cbc_stories = json.load(json_file)\n",
    "stories = cbc_stories['cbc_stories']\n",
    "print(len(stories), 'stories')\n",
    "\n",
    "# loop through stories to get most recent data\n",
    "story_count = 0\n",
    "for story in stories:\n",
    "    story_count += 1\n",
    "    cbc_url = story['url']\n",
    "    print(story_count, cbc_url)\n",
    "    driver.get(cbc_url)\n",
    "    time.sleep(5)\n",
    "\n",
    "    # get csv record count\n",
    "    file_name = cbc_url.replace('https://www.cbc.ca/','').replace('news/','').replace('sports/','').replace('/','_') + '.csv'\n",
    "    try: # new urls may not yet have csv files\n",
    "        with open(file_path_csv + file_name, encoding='utf-8') as f:\n",
    "            comment_count_data = str(sum(1 for line in f))\n",
    "        story_csv = 'yes'\n",
    "    except: \n",
    "        comment_count_data = ''\n",
    "        story_csv = 'no'\n",
    "\n",
    "    # get cbc story data from selenium\n",
    "    comment_count_page = driver.find_element(By.CLASS_NAME, 'vf-counter').text\n",
    "    story_title = driver.find_element(By.CLASS_NAME, 'detailHeadline').text\n",
    "    story_date = driver.find_element(By.XPATH, '//time').get_attribute('datetime').split('T')[0]\n",
    "    \n",
    "    # write updated data to json\n",
    "    story['comment_count_page'] = comment_count_page\n",
    "    story['story_title'] = story_title\n",
    "    story['story_date'] = story_date\n",
    "    story['csv'] = story_csv\n",
    "    story['comment_count_data'] = comment_count_data\n",
    "    try:\n",
    "        driver.find_element(By.XPATH, \"//*[contains(text(), 'Commenting is now closed for this story')]\")\n",
    "        story['comment_state_page'] = 'closed'\n",
    "    except:\n",
    "        comment_state = 'open'\n",
    "        story['comment_state_page'] = 'open'\n",
    "\n",
    "# save updated json to json file\n",
    "with open(file, 'w') as file_object:\n",
    "    json.dump(cbc_stories, file_object, indent=4)\n",
    "\n",
    "# close browser\n",
    "driver.close()"
   ]
  }
 ],
 "metadata": {
  "interpreter": {
   "hash": "3209f7c9970a5165de35ac1ebccb454208e28d7b7dbc1d5ffed20ad9404e23e9"
  },
  "kernelspec": {
   "display_name": "Python 3.7.11 64-bit ('venvWordCloud': conda)",
   "language": "python",
   "name": "python3"
  },
  "language_info": {
   "codemirror_mode": {
    "name": "ipython",
    "version": 3
   },
   "file_extension": ".py",
   "mimetype": "text/x-python",
   "name": "python",
   "nbconvert_exporter": "python",
   "pygments_lexer": "ipython3",
   "version": "3.7.11"
  },
  "orig_nbformat": 4
 },
 "nbformat": 4,
 "nbformat_minor": 2
}
