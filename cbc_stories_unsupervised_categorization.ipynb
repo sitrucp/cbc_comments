{
 "cells": [
  {
   "cell_type": "code",
   "execution_count": null,
   "metadata": {},
   "outputs": [],
   "source": [
    "import collections\n",
    "import os\n",
    "import glob\n",
    "import json\n",
    "import pandas as pd\n",
    "import matplotlib.pyplot as plt\n",
    "from wordcloud import WordCloud\n",
    "from cbc_paths import file_path_csv, file_path_image\n",
    "import string\n",
    "from string import punctuation\n",
    "import nltk\n",
    "from nltk.corpus import stopwords\n",
    "from nltk.tokenize import word_tokenize, sent_tokenize\n",
    "lemma = nltk.wordnet.WordNetLemmatizer()\n",
    "import numpy as np\n",
    "from PIL import Image\n",
    "\n",
    "# get all csv files into dataframe\n",
    "all_files = glob.glob(os.path.join(file_path_csv, \"*.csv\"))\n",
    "df_from_each_file = (pd.read_csv(f) for f in all_files)\n",
    "df = pd.concat(df_from_each_file, ignore_index=True)\n",
    "stories_count = str(len(all_files))\n",
    "# Drop null comment text df records for both word clouds and networkx viz\n",
    "df.dropna(subset=['comment_text'], how='all', inplace=True)\n",
    "print('len(df)', len(df))\n",
    "print('len(all_files)', stories_count)"
   ]
  },
  {
   "cell_type": "code",
   "execution_count": null,
   "metadata": {},
   "outputs": [],
   "source": [
    "# Create comment word text word cloud viz\n",
    "\n",
    "# Combine comment_text into list of comments\n",
    "text_list = df['comment_text'].tolist()\n",
    "\n",
    "# Combine all comment text into one huge text\n",
    "text = ' '.join(comment.lower() for comment in df.comment_text)\n",
    "\n",
    "# Clean up comment text\n",
    "stop_words = set(stopwords.words('english'))\n",
    "punctuation = list(punctuation)\n",
    "tokens = word_tokenize(text)\n",
    "filtered_text1 = [token for token in tokens if token not in stop_words]\n",
    "filtered_text2 = [idx for idx in filtered_text1 if not any(punc in idx for punc in string.punctuation)]\n",
    "filtered_text3 = [item for item in filtered_text2 if len(item)>1]\n",
    "filtered_text4 = [x for x in filtered_text3 if not isinstance(x, int)]\n",
    "filtered_text = [lemma.lemmatize(x) for x in filtered_text4]\n",
    "\n",
    "# Print summary\n",
    "print('filtered_text len:', len(filtered_text))"
   ]
  },
  {
   "cell_type": "code",
   "execution_count": null,
   "metadata": {},
   "outputs": [],
   "source": []
  }
 ],
 "metadata": {
  "interpreter": {
   "hash": "3209f7c9970a5165de35ac1ebccb454208e28d7b7dbc1d5ffed20ad9404e23e9"
  },
  "kernelspec": {
   "display_name": "Python 3.7.11 64-bit ('venvWordCloud': conda)",
   "name": "python3"
  },
  "language_info": {
   "codemirror_mode": {
    "name": "ipython",
    "version": 3
   },
   "file_extension": ".py",
   "mimetype": "text/x-python",
   "name": "python",
   "nbconvert_exporter": "python",
   "pygments_lexer": "ipython3",
   "version": "3.7.11"
  }
 },
 "nbformat": 4,
 "nbformat_minor": 2
}
